{
 "cells": [
  {
   "cell_type": "code",
   "execution_count": null,
   "id": "a0f0b1d1",
   "metadata": {},
   "outputs": [],
   "source": [
    "#Client code\n",
    "import socket\n",
    "\n",
    "client = socket.socket()\n",
    "port = 1234\n",
    "servername = '192.168.1.64'\n",
    "\n",
    "client.connect((servername, 1234))\n",
    "while True:\n",
    "    data = input('> ')\n",
    "    \n",
    "    if not data:\n",
    "        break\n",
    "    client.send(data.encode())\n",
    "    data = client.recv(1024).decode()\n",
    "    if not data:\n",
    "        break\n",
    "    print(data)\n",
    "client.close()"
   ]
  },
  {
   "cell_type": "code",
   "execution_count": null,
   "id": "bf300f8f",
   "metadata": {},
   "outputs": [],
   "source": []
  },
  {
   "cell_type": "code",
   "execution_count": null,
   "id": "c35affca",
   "metadata": {},
   "outputs": [],
   "source": []
  }
 ],
 "metadata": {
  "kernelspec": {
   "display_name": "Python 3",
   "language": "python",
   "name": "python3"
  },
  "language_info": {
   "codemirror_mode": {
    "name": "ipython",
    "version": 3
   },
   "file_extension": ".py",
   "mimetype": "text/x-python",
   "name": "python",
   "nbconvert_exporter": "python",
   "pygments_lexer": "ipython3",
   "version": "3.9.4"
  }
 },
 "nbformat": 4,
 "nbformat_minor": 5
}
