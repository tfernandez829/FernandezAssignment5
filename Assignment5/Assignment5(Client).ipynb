{
 "cells": [
  {
   "cell_type": "code",
   "execution_count": null,
   "id": "a0f0b1d1",
   "metadata": {},
   "outputs": [
    {
     "name": "stdout",
     "output_type": "stream",
     "text": [
      "> client\n",
      "Assignment 5: Image Classification - Rock, Paper, Scissors\n",
      "Taylor Fernandez\n",
      "May 3, 2021\n",
      "> client paperImg.png\n",
      "Assignment 5: Image Classification - Rock, Paper, Scissors\n",
      "Taylor Fernandez\n",
      "May 3, 2021\n",
      "Your image is: paper!\n"
     ]
    }
   ],
   "source": [
    "#Client code\n",
    "import socket\n",
    "\n",
    "client = socket.socket()\n",
    "port = 1234\n",
    "servername = '192.168.1.64'\n",
    "\n",
    "client.connect((servername, 1234))\n",
    "while True:\n",
    "    data = input('> ')\n",
    "    \n",
    "    if not data:\n",
    "        break\n",
    "    client.send(data.encode())\n",
    "    data = client.recv(1024).decode()\n",
    "    if not data:\n",
    "        break\n",
    "    print(data)\n",
    "client.close()"
   ]
  },
  {
   "cell_type": "code",
   "execution_count": null,
   "id": "2ed8b10e",
   "metadata": {},
   "outputs": [],
   "source": []
  },
  {
   "cell_type": "code",
   "execution_count": null,
   "id": "7b8b4d2b",
   "metadata": {},
   "outputs": [],
   "source": []
  },
  {
   "cell_type": "code",
   "execution_count": null,
   "id": "f0adfc16",
   "metadata": {},
   "outputs": [],
   "source": []
  },
  {
   "cell_type": "code",
   "execution_count": null,
   "id": "c783ef8b",
   "metadata": {},
   "outputs": [],
   "source": []
  }
 ],
 "metadata": {
  "kernelspec": {
   "display_name": "Python 3",
   "language": "python",
   "name": "python3"
  },
  "language_info": {
   "codemirror_mode": {
    "name": "ipython",
    "version": 3
   },
   "file_extension": ".py",
   "mimetype": "text/x-python",
   "name": "python",
   "nbconvert_exporter": "python",
   "pygments_lexer": "ipython3",
   "version": "3.9.4"
  }
 },
 "nbformat": 4,
 "nbformat_minor": 5
}
